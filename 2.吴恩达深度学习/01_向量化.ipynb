{
 "cells": [
  {
   "cell_type": "code",
   "execution_count": 3,
   "outputs": [
    {
     "name": "stdout",
     "output_type": "stream",
     "text": [
      "向量化方法的运行结果为：250116.5023423466\n",
      "Vectorized version:3.988504409790039ms\n"
     ]
    }
   ],
   "source": [
    "import numpy as np\n",
    "a=np.array([1,2,3,4])\n",
    "a  # array([1, 2, 3, 4])\n",
    "\n",
    "import time\n",
    "a=np.random.rand(1000000)  # 通过random随机得到两个一百万维的数组\n",
    "b=np.random.rand(1000000)\n",
    "tic=time.time()  # 测量当前的时间\n",
    "c=np.dot(a,b)  # 使用向量化实现\n",
    "toc=time.time()  # 测量使用向量化实现所花费的时间\n",
    "print(\"向量化方法的运行结果为：\" + str(c))\n",
    "print(\"Vectorized version:\"+str(1000*(toc-tic))+\"ms\")"
   ],
   "metadata": {
    "collapsed": false,
    "pycharm": {
     "name": "#%%\n"
    }
   }
  },
  {
   "cell_type": "code",
   "execution_count": 4,
   "outputs": [
    {
     "name": "stdout",
     "output_type": "stream",
     "text": [
      "非向量化方法的运行结果为：250116.5023423553\n",
      "For Loop:334.3544006347656ms\n"
     ]
    }
   ],
   "source": [
    "c=0\n",
    "tic=time.time()\n",
    "for i in range(1000000):\n",
    "    c += a[i]*b[i]\n",
    "toc=time.time()\n",
    "print(\"非向量化方法的运行结果为：\" + str(c))\n",
    "print(\"For Loop:\"+str(1000*(toc-tic))+\"ms\")"
   ],
   "metadata": {
    "collapsed": false,
    "pycharm": {
     "name": "#%%\n"
    }
   }
  },
  {
   "cell_type": "code",
   "execution_count": null,
   "outputs": [],
   "source": [],
   "metadata": {
    "collapsed": false,
    "pycharm": {
     "name": "#%%\n"
    }
   }
  }
 ],
 "metadata": {
  "kernelspec": {
   "display_name": "Python 3",
   "language": "python",
   "name": "python3"
  },
  "language_info": {
   "codemirror_mode": {
    "name": "ipython",
    "version": 2
   },
   "file_extension": ".py",
   "mimetype": "text/x-python",
   "name": "python",
   "nbconvert_exporter": "python",
   "pygments_lexer": "ipython2",
   "version": "2.7.6"
  }
 },
 "nbformat": 4,
 "nbformat_minor": 0
}